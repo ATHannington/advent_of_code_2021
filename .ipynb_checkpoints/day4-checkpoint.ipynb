{
 "cells": [
  {
   "cell_type": "markdown",
   "metadata": {},
   "source": [
    "# Advent of Code 2021\n",
    "## Day 4\n",
    "\n",
    "A.T.Hannington"
   ]
  },
  {
   "cell_type": "markdown",
   "metadata": {},
   "source": [
    "# Part 1"
   ]
  },
  {
   "cell_type": "code",
   "execution_count": 1,
   "metadata": {},
   "outputs": [],
   "source": [
    "import numpy as np"
   ]
  },
  {
   "cell_type": "code",
   "execution_count": 2,
   "metadata": {},
   "outputs": [],
   "source": [
    "def read_bingo_data(file_path):\n",
    "    data_numbers = []\n",
    "    data_boards = []\n",
    "    with open(file_path,\"r\") as f:\n",
    "        for ind,line in enumerate(f):\n",
    "            if ind == 0:\n",
    "                line_split = line.replace(\"\\n\",\"\").split(\",\")\n",
    "                while \"\" in line_split:\n",
    "                    line_split.remove(\"\")\n",
    "                data_numbers = np.array(line_split)\n",
    "            else:\n",
    "                line_split = line.replace(\"\\n\",\" \").split(\" \")\n",
    "                while \"\" in line_split:\n",
    "                    line_split.remove(\"\")\n",
    "                if not line_split:\n",
    "                    pass\n",
    "                else:\n",
    "                    data_boards.append(line_split)\n",
    "\n",
    "    data_numbers = data_numbers.astype(\"int32\")\n",
    "    data_boards = np.array(data_boards).astype(\"int32\").reshape(-1,5,5) \n",
    "    \n",
    "    return data_numbers, data_boards"
   ]
  },
  {
   "cell_type": "code",
   "execution_count": 3,
   "metadata": {},
   "outputs": [
    {
     "name": "stdout",
     "output_type": "stream",
     "text": [
      "[38 54 68 93 72 12 33  8 98 88 21 91 53 61 26 36 18 80 73 47  3  5 55 92\n",
      " 67 52 25 40 56 95  9 62 30 31 85 65 14  2 78 75 15 39 87 27 58 42 60 32\n",
      " 41 83 51 77 10 66 70  4 37  6 89 23 16 49 48 63 94 97 86 64 74 82  7  0\n",
      " 11 71 44 43 50 69 45 81 20 28 46 79 90 34 35 96 99 59  1 76 22 24 17 57\n",
      " 13 19 84 29]\n",
      "\n",
      "[[[57  7  8 38 31]\n",
      "  [17 96  5 12 18]\n",
      "  [58 45 81 89  4]\n",
      "  [73 51 93 32 10]\n",
      "  [74 50 26  0 24]]\n",
      "\n",
      " [[79 67 21 84 71]\n",
      "  [25 22 19 80 13]\n",
      "  [10 63 90 78 33]\n",
      "  [93 50 89 58 87]\n",
      "  [91  7 45  6 41]]\n",
      "\n",
      " [[66 85  4 91 41]\n",
      "  [59 69 16  0 90]\n",
      "  [35 13 64 61 93]\n",
      "  [11 20 29 67 77]\n",
      "  [92 75 58  3 34]]\n",
      "\n",
      " ...\n",
      "\n",
      " [[19 63 86 82  9]\n",
      "  [69 13 27 88 37]\n",
      "  [45 51 79 11  8]\n",
      "  [ 2 29 41 84 73]\n",
      "  [76 24 78 96 38]]\n",
      "\n",
      " [[15 19 88 95 54]\n",
      "  [28 94 96 27 26]\n",
      "  [ 8 82 68  6 71]\n",
      "  [33  9 99 62 63]\n",
      "  [38 83 41 14 79]]\n",
      "\n",
      " [[67 57  2 21 19]\n",
      "  [11 79 74 45 95]\n",
      "  [42 90 68 47 62]\n",
      "  [80 61  1  0 39]\n",
      "  [43 76 40 27 66]]]\n"
     ]
    }
   ],
   "source": [
    "file_path = \"day4_input.txt\"              \n",
    "\n",
    "data_numbers, data_boards = read_bingo_data(file_path)\n",
    "print(data_numbers)\n",
    "print()\n",
    "print(data_boards)"
   ]
  },
  {
   "cell_type": "code",
   "execution_count": 4,
   "metadata": {},
   "outputs": [
    {
     "name": "stdout",
     "output_type": "stream",
     "text": [
      "[ 7  4  9  5 11 17 23  2  0 14 21 24 10 16 13  6 15 25 12 22 18 20  8 19\n",
      "  3 26  1]\n",
      "\n",
      "[[[22 13 17 11  0]\n",
      "  [ 8  2 23  4 24]\n",
      "  [21  9 14 16  7]\n",
      "  [ 6 10  3 18  5]\n",
      "  [ 1 12 20 15 19]]\n",
      "\n",
      " [[ 3 15  0  2 22]\n",
      "  [ 9 18 13 17  5]\n",
      "  [19  8  7 25 23]\n",
      "  [20 11 10 24  4]\n",
      "  [14 21 16 12  6]]\n",
      "\n",
      " [[14 21 17 24  4]\n",
      "  [10 16 15  9 19]\n",
      "  [18  8 23 26 20]\n",
      "  [22 11 13  6  5]\n",
      "  [ 2  0 12  3  7]]]\n"
     ]
    }
   ],
   "source": [
    "file_path = \"day4_test_input.txt\"              \n",
    "\n",
    "test_numbers, test_boards = read_bingo_data(file_path)\n",
    "print(test_numbers)\n",
    "print()\n",
    "print(test_boards)"
   ]
  },
  {
   "cell_type": "code",
   "execution_count": 5,
   "metadata": {},
   "outputs": [],
   "source": [
    "def create_scorecards(data_boards):\n",
    "    scorecards = np.full(shape=np.shape(data_boards),fill_value=False)\n",
    "    game_dict = {\"Board\":data_boards,\"Scorecard\":scorecards}\n",
    "    print(\"Generated game_dict!\")\n",
    "    print(f\"game_dict keys : {list(game_dict.keys())}\")\n",
    "    \n",
    "    return game_dict"
   ]
  },
  {
   "cell_type": "code",
   "execution_count": 6,
   "metadata": {},
   "outputs": [
    {
     "name": "stdout",
     "output_type": "stream",
     "text": [
      "Generated game_dict!\n",
      "game_dict keys : ['Board', 'Scorecard']\n"
     ]
    }
   ],
   "source": [
    "test_game_dict = create_scorecards(test_boards)"
   ]
  },
  {
   "cell_type": "code",
   "execution_count": 7,
   "metadata": {},
   "outputs": [],
   "source": [
    "def check_for_winners(game_dict,a_board_axes=[1,2]):\n",
    "        where_winners = np.where(np.all(game_dict['Scorecard']==True,axis=a_board_axes[0])\\\n",
    "                                |np.all(game_dict['Scorecard']==True,axis=a_board_axes[1]))\n",
    "        winner = np.unique(where_winners[0])\n",
    "        winners_bool = np.any(where_winners)\n",
    "        \n",
    "        return winner,winners_bool"
   ]
  },
  {
   "cell_type": "code",
   "execution_count": 8,
   "metadata": {},
   "outputs": [],
   "source": [
    "winner_test = np.full(shape=(5,5),fill_value=True)\n",
    "loser_test = np.full(shape=(5,5),fill_value=False)\n",
    "winner_test_scorecards = np.array([loser_test,winner_test,loser_test])\n",
    "winner_test_game_dict = {\"Scorecard\":winner_test_scorecards}"
   ]
  },
  {
   "cell_type": "code",
   "execution_count": 9,
   "metadata": {},
   "outputs": [
    {
     "data": {
      "text/plain": [
       "(array([1]), True)"
      ]
     },
     "execution_count": 9,
     "metadata": {},
     "output_type": "execute_result"
    }
   ],
   "source": [
    "check_for_winners(winner_test_game_dict)"
   ]
  },
  {
   "cell_type": "code",
   "execution_count": 10,
   "metadata": {},
   "outputs": [],
   "source": [
    "def play_bingo(numbers,game_dict,winner_type=\"first\"):\n",
    "    _game_dict = {}\n",
    "    for key in game_dict.keys():  \n",
    "        _game_dict[key] =  game_dict[key].copy()\n",
    "    #Find which axes make up a board for check for winners\n",
    "    board_shape = np.shape(game_dict['Board'])\n",
    "    a_board_axes = []\n",
    "    for ind,ax_size in enumerate(board_shape):\n",
    "        if ax_size == 5:\n",
    "            a_board_axes.append(ind)\n",
    "\n",
    "    #Set default in case 5 boards are played        \n",
    "    if len(a_board_axes)>2:\n",
    "        a_board_axes = [1,2]\n",
    "    \n",
    "    print(f\"Let's Play Bingo! Winners type is '{winner_type}'\")\n",
    "    \n",
    "    winners_bool = False\n",
    "    \n",
    "    #Start playing\n",
    "    if winner_type == \"first\":\n",
    "        ind =0\n",
    "        while (winners_bool == False):\n",
    "            value = numbers[ind]\n",
    "            _game_dict['Scorecard'][np.where(_game_dict['Board']==value)] = True\n",
    "            where_winners,winners_bool = check_for_winners(_game_dict,a_board_axes)\n",
    "\n",
    "            ind +=1\n",
    "            if ind>len(numbers):\n",
    "                raise ValueError(\"No winners found!\")\n",
    "\n",
    "        #Get winning board\n",
    "        winner = {}\n",
    "        for key in _game_dict.keys():\n",
    "            if key not in list(winner.keys()):\n",
    "                winner.update({key:_game_dict[key][where_winners]})\n",
    "            else:\n",
    "                raise ValueError(\"More than one winner found!\")        \n",
    "                \n",
    "                \n",
    "                \n",
    "    elif winner_type==\"last\":\n",
    "        \n",
    "        _game_dict_diminishing = {}\n",
    "        for key in game_dict.keys():  \n",
    "            _game_dict_diminishing[key] =  game_dict[key].copy()\n",
    "        \n",
    "        ind = 0\n",
    "        \n",
    "        available_axes = np.array(list(range(0,np.shape(np.shape(game_dict['Board']))[0])))\n",
    "\n",
    "        boards_axis = np.array(available_axes[~np.isin(available_axes,np.array(a_board_axes))]).astype(\"int32\")        \n",
    "    \n",
    "        winners = []\n",
    "\n",
    "        for _value in numbers:\n",
    "            _game_dict_diminishing['Scorecard'][np.where(_game_dict_diminishing['Board']==_value)] = True\n",
    "            where_winners,winners_bool = check_for_winners(_game_dict_diminishing,a_board_axes)\n",
    "\n",
    "            if winners_bool ==True:\n",
    "                where_winners = where_winners\n",
    "                value = _value\n",
    "                \n",
    "                #Get winning boards\n",
    "                _winner = {}\n",
    "                for key in _game_dict.keys():\n",
    "                    _winner.update({key:_game_dict_diminishing[key][where_winners]})\n",
    "                \n",
    "                winners.append(_winner)\n",
    "                \n",
    "                #Remove previous winners from the game\n",
    "                for key,dat in _game_dict_diminishing.items():\n",
    "                    n_remaining_boards = np.shape(dat)[boards_axis[0]]\n",
    "                    remaining = np.where(~np.isin(np.arange(0,n_remaining_boards),where_winners))\n",
    "                    _game_dict_diminishing.update({key : dat[remaining]})\n",
    "            \n",
    "            ind +=1\n",
    "            if ind>len(numbers):\n",
    "                raise ValueError(\"No winners found!\")\n",
    "        \n",
    "        #Get last board to win\n",
    "        winner = winners[-1]\n",
    "    else:\n",
    "        raise ValueError(\"kwarg winner_type must be first or last!\")\n",
    "        \n",
    "    \n",
    "    return winner,value"
   ]
  },
  {
   "cell_type": "code",
   "execution_count": 11,
   "metadata": {
    "scrolled": true
   },
   "outputs": [
    {
     "name": "stdout",
     "output_type": "stream",
     "text": [
      "Let's Play Bingo! Winners type is 'first'\n",
      "{'Board': array([[[14, 21, 17, 24,  4],\n",
      "        [10, 16, 15,  9, 19],\n",
      "        [18,  8, 23, 26, 20],\n",
      "        [22, 11, 13,  6,  5],\n",
      "        [ 2,  0, 12,  3,  7]]], dtype=int32), 'Scorecard': array([[[ True,  True,  True,  True,  True],\n",
      "        [False, False, False,  True, False],\n",
      "        [False, False,  True, False, False],\n",
      "        [False,  True, False, False,  True],\n",
      "        [ True,  True, False, False,  True]]])} 24\n"
     ]
    }
   ],
   "source": [
    "test_winner_dict, test_winning_value = play_bingo(test_numbers,test_game_dict)\n",
    "print(test_winner_dict, test_winning_value)"
   ]
  },
  {
   "cell_type": "code",
   "execution_count": 12,
   "metadata": {},
   "outputs": [],
   "source": [
    "def get_score(winner_dict,winning_value):\n",
    "    sum_of_marked = np.sum(winner_dict['Board'][np.where(winner_dict['Scorecard']==False)])\n",
    "    return sum_of_marked*winning_value"
   ]
  },
  {
   "cell_type": "code",
   "execution_count": 13,
   "metadata": {},
   "outputs": [],
   "source": [
    "expect_score = 4512"
   ]
  },
  {
   "cell_type": "code",
   "execution_count": 14,
   "metadata": {},
   "outputs": [
    {
     "name": "stdout",
     "output_type": "stream",
     "text": [
      "4512 Test passed? : True\n"
     ]
    }
   ],
   "source": [
    "test_score = get_score(test_winner_dict, test_winning_value)\n",
    "print(test_score, f\"Test passed? : {test_score==expect_score}\")"
   ]
  },
  {
   "cell_type": "markdown",
   "metadata": {},
   "source": [
    "### Run on data"
   ]
  },
  {
   "cell_type": "code",
   "execution_count": 15,
   "metadata": {},
   "outputs": [
    {
     "name": "stdout",
     "output_type": "stream",
     "text": [
      "Generated game_dict!\n",
      "game_dict keys : ['Board', 'Scorecard']\n",
      "Let's Play Bingo! Winners type is 'first'\n",
      "{'Board': array([[[86, 80, 77, 18, 87],\n",
      "        [79, 93, 52, 17, 20],\n",
      "        [30, 68, 48, 12, 91],\n",
      "        [25, 98, 13,  9, 47],\n",
      "        [45, 73, 97, 15, 59]]], dtype=int32), 'Scorecard': array([[[False,  True, False,  True, False],\n",
      "        [False,  True, False, False, False],\n",
      "        [False,  True, False,  True,  True],\n",
      "        [False,  True, False, False, False],\n",
      "        [False,  True, False, False, False]]])} 73\n",
      "\n",
      "Day 4 Part 1 Result is: 58838\n"
     ]
    }
   ],
   "source": [
    "game_dict = create_scorecards(data_boards)\n",
    "winner_dict, winning_value = play_bingo(data_numbers,game_dict)\n",
    "print(winner_dict, winning_value)\n",
    "result = get_score(winner_dict, winning_value)\n",
    "print()\n",
    "print(f\"Day 4 Part 1 Result is: {result}\")"
   ]
  },
  {
   "cell_type": "markdown",
   "metadata": {},
   "source": [
    "## Part 2"
   ]
  },
  {
   "cell_type": "code",
   "execution_count": 16,
   "metadata": {},
   "outputs": [],
   "source": [
    "expect_score_part2 = 1924"
   ]
  },
  {
   "cell_type": "code",
   "execution_count": 17,
   "metadata": {},
   "outputs": [
    {
     "name": "stdout",
     "output_type": "stream",
     "text": [
      "Let's Play Bingo! Winners type is 'last'\n",
      "{'Board': array([[[ 3, 15,  0,  2, 22],\n",
      "        [ 9, 18, 13, 17,  5],\n",
      "        [19,  8,  7, 25, 23],\n",
      "        [20, 11, 10, 24,  4],\n",
      "        [14, 21, 16, 12,  6]]], dtype=int32), 'Scorecard': array([[[False, False,  True,  True, False],\n",
      "        [ True, False,  True,  True,  True],\n",
      "        [False, False,  True, False,  True],\n",
      "        [False,  True,  True,  True,  True],\n",
      "        [ True,  True,  True, False, False]]])} 13\n",
      "\n",
      "1924 Test passed? : True\n"
     ]
    }
   ],
   "source": [
    "test_part2_winner_dict, test_part2_winning_value = play_bingo(test_numbers,test_game_dict,winner_type='last')\n",
    "print(test_part2_winner_dict, test_part2_winning_value)\n",
    "test_part2_result = get_score(test_part2_winner_dict, test_part2_winning_value)\n",
    "print()\n",
    "print(test_part2_result, f\"Test passed? : {test_part2_result==expect_score_part2}\")"
   ]
  },
  {
   "cell_type": "code",
   "execution_count": 18,
   "metadata": {},
   "outputs": [
    {
     "name": "stdout",
     "output_type": "stream",
     "text": [
      "Let's Play Bingo! Winners type is 'last'\n",
      "{'Board': array([[[17, 16, 10, 68, 76],\n",
      "        [ 2, 45, 94, 29, 40],\n",
      "        [ 1, 54, 60, 66, 93],\n",
      "        [ 0, 13, 42, 39, 70],\n",
      "        [ 6, 82, 46, 74, 43]]], dtype=int32), 'Scorecard': array([[[False,  True,  True,  True, False],\n",
      "        [ True,  True,  True, False,  True],\n",
      "        [False,  True,  True,  True,  True],\n",
      "        [ True, False,  True,  True,  True],\n",
      "        [ True,  True,  True,  True,  True]]])} 46\n",
      "\n",
      "Day 4 Part 2 Result is: 6256\n"
     ]
    }
   ],
   "source": [
    "winner_dict_part2, winning_value_part2 = play_bingo(data_numbers,game_dict,winner_type='last')\n",
    "print(winner_dict_part2, winning_value_part2)\n",
    "result_part2 = get_score(winner_dict_part2, winning_value_part2)\n",
    "print()\n",
    "print(f\"Day 4 Part 2 Result is: {result_part2}\")"
   ]
  },
  {
   "cell_type": "code",
   "execution_count": null,
   "metadata": {},
   "outputs": [],
   "source": []
  },
  {
   "cell_type": "code",
   "execution_count": null,
   "metadata": {},
   "outputs": [],
   "source": []
  },
  {
   "cell_type": "code",
   "execution_count": null,
   "metadata": {},
   "outputs": [],
   "source": []
  },
  {
   "cell_type": "code",
   "execution_count": null,
   "metadata": {},
   "outputs": [],
   "source": []
  },
  {
   "cell_type": "code",
   "execution_count": null,
   "metadata": {},
   "outputs": [],
   "source": []
  }
 ],
 "metadata": {
  "kernelspec": {
   "display_name": "Python 3",
   "language": "python",
   "name": "python3"
  },
  "language_info": {
   "codemirror_mode": {
    "name": "ipython",
    "version": 3
   },
   "file_extension": ".py",
   "mimetype": "text/x-python",
   "name": "python",
   "nbconvert_exporter": "python",
   "pygments_lexer": "ipython3",
   "version": "3.7.6"
  }
 },
 "nbformat": 4,
 "nbformat_minor": 4
}
