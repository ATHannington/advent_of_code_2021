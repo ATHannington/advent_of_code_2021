{
 "cells": [
  {
   "cell_type": "markdown",
   "metadata": {},
   "source": [
    "# Advent of Code 2021\n",
    "## Day 7\n",
    "\n",
    "A.T.Hannington"
   ]
  },
  {
   "cell_type": "markdown",
   "metadata": {},
   "source": [
    "# Part 1"
   ]
  },
  {
   "cell_type": "code",
   "execution_count": 1,
   "metadata": {},
   "outputs": [],
   "source": [
    "import numpy as np"
   ]
  },
  {
   "cell_type": "code",
   "execution_count": 2,
   "metadata": {},
   "outputs": [
    {
     "name": "stdout",
     "output_type": "stream",
     "text": [
      "[16  1  2  0  4  2  7  1  2 14]\n"
     ]
    }
   ],
   "source": [
    "file_path = \"day7_test_input.txt\"              \n",
    "\n",
    "test = np.genfromtxt(file_path,delimiter=\",\").astype(\"int32\")\n",
    "print(test)\n"
   ]
  },
  {
   "cell_type": "code",
   "execution_count": 3,
   "metadata": {},
   "outputs": [],
   "source": [
    "def move_crab_submarines(data):\n",
    "    #Get optimal distance, median less affected by outliers\n",
    "    median_distance = np.nanmedian(data)\n",
    "    \n",
    "    #Get distance each crab moves, and thus fuel per crab\n",
    "    diff = np.absolute(data-median_distance)\n",
    "    \n",
    "    #Get total fuel used by all crabs\n",
    "    fuel_used = np.sum(diff)\n",
    "    \n",
    "    return median_distance, fuel_used"
   ]
  },
  {
   "cell_type": "code",
   "execution_count": 4,
   "metadata": {},
   "outputs": [],
   "source": [
    "expect_pos = 2.0\n",
    "expect_fuel = 37.0"
   ]
  },
  {
   "cell_type": "code",
   "execution_count": 5,
   "metadata": {},
   "outputs": [
    {
     "name": "stdout",
     "output_type": "stream",
     "text": [
      "2.0 Test Position passed? : True\n",
      "37.0 Test Fuel passed? : True\n"
     ]
    }
   ],
   "source": [
    "test_pos,test_fuel = move_crab_submarines(test)\n",
    "\n",
    "print(test_pos, f\"Test Position passed? : {test_pos==expect_pos}\")\n",
    "print(test_fuel, f\"Test Fuel passed? : {test_fuel==expect_fuel}\")"
   ]
  },
  {
   "cell_type": "markdown",
   "metadata": {},
   "source": [
    "### Run on data"
   ]
  },
  {
   "cell_type": "code",
   "execution_count": 6,
   "metadata": {},
   "outputs": [
    {
     "name": "stdout",
     "output_type": "stream",
     "text": [
      "[1101    1   29   67 1102    0    1   65 1008   65   35   66 1005   66\n",
      "   28    1   67   65   20    4    0 1001   65    1   65 1106    0    8\n",
      "   99   35   67  101   99  105   32  110   39  101  115  116   32  112\n",
      "   97  115   32  117  110  101   32  105  110  116   99  111  100  101\n",
      "   32  112  114  111  103  114   97  109   10  767  559  240 1779  740\n",
      "  550   84  819  108  728  212  650  264  899 1231   90  127   46  219\n",
      " 1494  192  473  163 1456 1048   22    4 1121    9   37  180  531 1167\n",
      "  395  456  952 1807  199  606  293 1003  236  235 1294  102    4  724\n",
      "  672  458  511  431  162   48  900  229    4  570  316  111  520  720\n",
      "  343 1064  314  261 1102  397 1585  610  509 1374  157  128  353  440\n",
      "  435  864 1489  425  762  320 1369  233  903 1181 1203  598    9  938\n",
      "  659  214    2  141  468 1485  631  265  156  165  987    2  856  564\n",
      "  120  325   16  743  849  822   51   18 1153 1100  143  301  402  717\n",
      "  126  937  391   36  802 1399  512  461  250  679  646  303  556  574\n",
      "  948  362  395  402  253 1631    1  203   76   48  246  115  117   15\n",
      "  953  926  210 1257   96   47  147 1058 1129 1166  183  375 1404  697\n",
      "  237  191  760  431   38 1778  159  698  411  160  289   23  836  554\n",
      "  841  289  892  276  877  216  751 1273  388  392  289   78  324 1142\n",
      "  896  767  416  780  373  117    1   71  235  302  307  906  321  480\n",
      "  991 1586 1491 1617  653  499 1323  156  455   19  669  169  415  284\n",
      "  743  439  705  980 1350  210  118  797   81   67  894  183   10  439\n",
      "  950 1126  576  828   85  681  517   19  872  119  164  882   31  244\n",
      "  195  640   41  313  888  303  224  433  462  389  329  254  488  570\n",
      "  286  945 1377   32 1101  206  457  584  662 1176    9 1164  227  467\n",
      "  239 1094  131  420  871  942   52 1276   14   72    7 1099  702   53\n",
      "  118  263  645  181   60  105  780 1102  550   85  225 1159  250 1424\n",
      "    8 1060  458   79  299  744   76 1513  338   68  179  323  644   65\n",
      "  293   66  153  699  819  966  678  207  538  372  284  101  224  305\n",
      "  103 1276  577  316  350  647  314 1256  595 1332  133   83  654 1072\n",
      "   63  446   46    5   92  939  608  940  257  851 1715  742   96 1497\n",
      "  240 1154   30   69  803   13   47  380   97  349  742  581  768   94\n",
      "  454   25  330  899  584 1425  447  207 1621  329  429   22  361    3\n",
      "   24  534  361  695   61  680  517   43  129 1686  301 1090  211  680\n",
      "  362  855  700  392  354  871  154  485  654  203 1417  208 1228  243\n",
      "  317  899  106  307   62  157  186  291  475  616  137  113 1367   24\n",
      "  778  431 1563   36  651  131  259  165  765  226   28 1410  456 1601\n",
      "   11   21  323  214  208 1444   11  108   49 1182   89  564 1266  478\n",
      " 1324  538 1572  488 1546  434 1168  615  285  507  561  100 1092   30\n",
      "  866  946  840  322  625  106  101  157  209  531   63  133  103  715\n",
      "  666 1655   81 1439 1016   32  441   86 1597 1273  443  732  160  162\n",
      "  528  727  150  107   21  111   10  502  302 1315  643   84  318 1488\n",
      "  315  150    5  248  675  167  691  101  412  584  992 1317   18 1046\n",
      "  164  359  111 1105   96   16  301  463  680  443  433  477  420 1141\n",
      "  362 1840   12   57 1094  806   23  708  243 1060  894  403  941  958\n",
      "  240  903  497 1342 1068   35  399  381   19  499  339    0  226  108\n",
      "  292 1607  281   72  283  316  182  224   33  488  786 1456   25  104\n",
      "  201  549  827  890 1520  931   70  763   25  633  464  822  751  327\n",
      "  144   62 1205   78 1007  216  324  316  289  682 1359  198  204  199\n",
      "   29  580   10  338   45  150  217  290  734  985 1654  201  934    0\n",
      "  793  956  549  230 1337  183  115  229   31  122   90 1264  122 1292\n",
      "  278   78  256  919  365  444  455 1235  484   45 1646   21  895  218\n",
      "  179 1311  141  238 1330   40  593  518   95  466  233  125  777  150\n",
      "  315  606  265  935   13   89  961  394  341   88  485   57  725  665\n",
      "  616  889  577  100  154  686  842  772  581 1311  604   41   62 1439\n",
      "  313  320  225 1115  279  176  995   12   70  739   96    4    2   37\n",
      "  252 1164 1243  899  856   10  219  233 1430  443 1011   30  378   81\n",
      "   39  167 1060    9  601  663   89  718 1192 1579  511   85  180  236\n",
      " 1079  556  496  215  192  718  300 1282  475  984  535 1760 1137  439\n",
      "  759  221  125 1298  542 1119  446  204   90   16   84   63  176   26\n",
      "  123 1157  140  518 1115  514  701 1207  547   39  970  240  584   77\n",
      "   66   44  858  560   21  648  309 1096  618  220   28   75 1442  233\n",
      "    1   86  325  244  161  218    6  229 1104  275  754   60  186  882\n",
      "  232  133 1288   42  697  152  252  396  345   38  672  980 1514  468\n",
      "  102  563  871  313  358   97   28 1018  830  182   32 1335  525  490\n",
      "  419 1182  946  362   57  496  799  194  504 1615  440  566  481  283\n",
      " 1422  133  919  185  695  871 1422 1372  250   96  438  743  954 1363\n",
      "  349  814 1235  642  461  160  135  131   61  250  188  125  698  346\n",
      "  470  603 1391  460  578  404    3   14 1715 1271  856 1334   28  739\n",
      "  274  628   70  456  393    5  326  382   70  244  101  560  424 1521\n",
      "   25 1441  147  851 1207  747   84  703  172  101   87  357  421   91\n",
      "  939  595  581  149  626  797 1485  419  192  828 1031 1283  333  614\n",
      "  479 1344  520 1434 1422  877]\n"
     ]
    }
   ],
   "source": [
    "file_path = \"day7_input.txt\"              \n",
    "\n",
    "data = np.genfromtxt(file_path,delimiter=\",\").astype(\"int32\")\n",
    "print(data)"
   ]
  },
  {
   "cell_type": "code",
   "execution_count": 7,
   "metadata": {
    "scrolled": true
   },
   "outputs": [
    {
     "name": "stdout",
     "output_type": "stream",
     "text": [
      "Day 7 Part 1 Result is: 355150.0\n"
     ]
    }
   ],
   "source": [
    "result_pos,result_fuel = move_crab_submarines(data)\n",
    "\n",
    "print(f\"Day 7 Part 1 Result is: {result_fuel}\")"
   ]
  },
  {
   "cell_type": "markdown",
   "metadata": {},
   "source": [
    "## Part 2"
   ]
  },
  {
   "cell_type": "code",
   "execution_count": 8,
   "metadata": {},
   "outputs": [],
   "source": [
    "def get_fuel(data,hist,data_range,target_distance):\n",
    "    \n",
    "    data_max = np.nanmax(data)\n",
    "    data_min = np.nanmin(data)\n",
    "    \n",
    "    where_nonzero = np.where(hist!=0,True,False)\n",
    "    \n",
    "    #Make an array of weights\n",
    "    weights = np.array([np.sum(np.arange(0,dist+1)) for (dist,truthy) in zip(data_range,where_nonzero) if truthy ])\n",
    "\n",
    "    #Total fuel used at this distance is sum of histogram*weights\n",
    "    fuel = np.sum(np.absolute(hist[where_nonzero])*weights)\n",
    "\n",
    "    return fuel\n",
    "    \n",
    "def move_crab_submarines_thorough(data):\n",
    "\n",
    "    #Summarise data in histogram\n",
    "    hist, _ = np.histogram(data,bins=int(data.max())+1,range=(0,data.max()))\n",
    "    data_range = np.arange(0,data.max()+1)\n",
    "\n",
    "    data_max = np.nanmax(data)\n",
    "    data_min = np.nanmin(data)\n",
    "    \n",
    "    distance_and_fuel = np.array([[target_distance, get_fuel(data,hist,np.absolute(data_range-target_distance),target_distance)]\\\n",
    "                                  for target_distance in range(data_min,data_max+1)])\n",
    "    loc_min_fuel = np.argmin(distance_and_fuel[:,1])\n",
    "    \n",
    "    target_distance = distance_and_fuel[loc_min_fuel,0]\n",
    "    fuel_used = distance_and_fuel[loc_min_fuel,1]\n",
    "    \n",
    "    \n",
    "    return target_distance, fuel_used"
   ]
  },
  {
   "cell_type": "code",
   "execution_count": 9,
   "metadata": {},
   "outputs": [],
   "source": [
    "def fuel(x,c):\n",
    "    return np.sum(np.arange(0,abs(x-c)+1))\n",
    "\n",
    "def vec_fuel(vec,c):\n",
    "    return np.apply_along_axis(fuel,0,vec,c)\n",
    "\n",
    "def move_crab_submarines_fast(data):\n",
    "    \"\"\" It can be shown mathematically that the gradient of the fuel function applied \n",
    "        to our input vector is at its minimum at the mean of the input vector +/- 1.\n",
    "        Thus, we can find the mean of our data and search around that value and\n",
    "        be guaranteed to find the minimum.    \n",
    "    \"\"\"\n",
    "    #Summarise data in histogram\n",
    "    hist, _ = np.histogram(data,bins=int(data.max())+1,range=(0,data.max()))\n",
    "    where_nonzero = np.where(hist!=0)[0]\n",
    "    data_range = np.arange(0,data.max()+1).reshape(1,-1)\n",
    "    \n",
    "    init_distance = int(round(np.mean(data),0))\n",
    "    d1 = init_distance+1\n",
    "    d2 = init_distance-1\n",
    "    \n",
    "    f0 = np.sum(hist[where_nonzero]*vec_fuel(data_range,c=init_distance)[where_nonzero])\n",
    "    f1 = np.sum(hist[where_nonzero]*vec_fuel(data_range,c=d1)[where_nonzero])\n",
    "    f2 = np.sum(hist[where_nonzero]*vec_fuel(data_range,c=d2)[where_nonzero])   \n",
    "\n",
    "    \n",
    "    distances = np.array([init_distance,d1,d2])\n",
    "    fuels = np.array([f0,f1,f2])\n",
    "    min_fuel_index = np.argmin(fuels)\n",
    "\n",
    "    return distances[min_fuel_index], fuels[min_fuel_index]"
   ]
  },
  {
   "cell_type": "code",
   "execution_count": 10,
   "metadata": {},
   "outputs": [],
   "source": [
    "expect_pos_part2 = 5.0\n",
    "expect_fuel_part2 = 168.0"
   ]
  },
  {
   "cell_type": "code",
   "execution_count": 11,
   "metadata": {},
   "outputs": [
    {
     "name": "stdout",
     "output_type": "stream",
     "text": [
      "5 Test Position passed? : True\n",
      "168 Test Fuel passed? : True\n"
     ]
    }
   ],
   "source": [
    "test_pos_part2,test_fuel_part2 = move_crab_submarines_thorough(test)\n",
    "\n",
    "print(test_pos_part2, f\"Test Position passed? : {test_pos_part2==expect_pos_part2}\")\n",
    "print(test_fuel_part2, f\"Test Fuel passed? : {test_fuel_part2==expect_fuel_part2}\")"
   ]
  },
  {
   "cell_type": "code",
   "execution_count": 12,
   "metadata": {},
   "outputs": [
    {
     "name": "stdout",
     "output_type": "stream",
     "text": [
      "5 Test Position passed? : True\n",
      "168 Test Fuel passed? : True\n"
     ]
    }
   ],
   "source": [
    "test_pos_part2,test_fuel_part2 = move_crab_submarines_fast(test)\n",
    "\n",
    "print(test_pos_part2, f\"Test Position passed? : {test_pos_part2==expect_pos_part2}\")\n",
    "print(test_fuel_part2, f\"Test Fuel passed? : {test_fuel_part2==expect_fuel_part2}\")"
   ]
  },
  {
   "cell_type": "code",
   "execution_count": 13,
   "metadata": {
    "scrolled": true
   },
   "outputs": [
    {
     "name": "stdout",
     "output_type": "stream",
     "text": [
      "\n",
      "Day 7 Part 2 Result is: (499, 98368490)\n"
     ]
    }
   ],
   "source": [
    "result_pos_part2,result_fuel_part2 = move_crab_submarines_fast(data)\n",
    "\n",
    "print()\n",
    "print(f\"Day 7 Part 2 Result is: {result_pos_part2,result_fuel_part2}\")"
   ]
  },
  {
   "cell_type": "code",
   "execution_count": 14,
   "metadata": {
    "scrolled": true
   },
   "outputs": [
    {
     "name": "stdout",
     "output_type": "stream",
     "text": [
      "\n",
      "Day 7 Part 2 Result is: (499, 98368490)\n"
     ]
    }
   ],
   "source": [
    "result_pos_part2,result_fuel_part2 = move_crab_submarines_thorough(data)\n",
    "\n",
    "print()\n",
    "print(f\"Day 7 Part 2 Result is: {result_pos_part2,result_fuel_part2}\")"
   ]
  },
  {
   "cell_type": "code",
   "execution_count": null,
   "metadata": {},
   "outputs": [],
   "source": []
  }
 ],
 "metadata": {
  "kernelspec": {
   "display_name": "Python 3",
   "language": "python",
   "name": "python3"
  },
  "language_info": {
   "codemirror_mode": {
    "name": "ipython",
    "version": 3
   },
   "file_extension": ".py",
   "mimetype": "text/x-python",
   "name": "python",
   "nbconvert_exporter": "python",
   "pygments_lexer": "ipython3",
   "version": "3.7.6"
  }
 },
 "nbformat": 4,
 "nbformat_minor": 4
}
