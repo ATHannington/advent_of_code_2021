{
 "cells": [
  {
   "cell_type": "markdown",
   "metadata": {},
   "source": [
    "# Advent of Code 2021\n",
    "## Day 6\n",
    "\n",
    "A.T.Hannington"
   ]
  },
  {
   "cell_type": "markdown",
   "metadata": {},
   "source": [
    "# Part 1"
   ]
  },
  {
   "cell_type": "code",
   "execution_count": 1,
   "metadata": {},
   "outputs": [],
   "source": [
    "import numpy as np"
   ]
  },
  {
   "cell_type": "code",
   "execution_count": 2,
   "metadata": {},
   "outputs": [
    {
     "name": "stdout",
     "output_type": "stream",
     "text": [
      "[3 4 3 1 2]\n"
     ]
    }
   ],
   "source": [
    "file_path = \"day6_test_input.txt\"              \n",
    "\n",
    "test = np.genfromtxt(file_path,delimiter=\",\").astype(\"int32\")\n",
    "print(test)\n"
   ]
  },
  {
   "cell_type": "code",
   "execution_count": 3,
   "metadata": {},
   "outputs": [],
   "source": [
    "def progress_population_of_lanternfish(data,days,countdown_mature=6,countdown_young=8):\n",
    "    _data = data.copy()\n",
    "    for day in range(0,days):\n",
    "        where_reproduce = np.where(_data==0)[0]\n",
    "        n_new_fish = int(np.shape(where_reproduce)[0])\n",
    "        if n_new_fish>0:\n",
    "            _data[where_reproduce] = countdown_mature+1\n",
    "            new_fish = np.full(shape=(n_new_fish),fill_value=countdown_young+1)\n",
    "            _data = np.concatenate((_data,new_fish),axis=0)\n",
    "        \n",
    "        _data -= 1\n",
    "    return _data"
   ]
  },
  {
   "cell_type": "code",
   "execution_count": 4,
   "metadata": {},
   "outputs": [],
   "source": [
    "expect_n_days = [2,18,80]\n",
    "expect = [6,26,5934]"
   ]
  },
  {
   "cell_type": "code",
   "execution_count": 5,
   "metadata": {},
   "outputs": [
    {
     "data": {
      "text/plain": [
       "array([1, 2, 1, 6, 0, 8])"
      ]
     },
     "execution_count": 5,
     "metadata": {},
     "output_type": "execute_result"
    }
   ],
   "source": [
    "progress_population_of_lanternfish(test,days=2,countdown_mature=6,countdown_young=8)"
   ]
  },
  {
   "cell_type": "code",
   "execution_count": 6,
   "metadata": {},
   "outputs": [
    {
     "name": "stdout",
     "output_type": "stream",
     "text": [
      "6 Test 0 passed? : True\n",
      "26 Test 1 passed? : True\n",
      "5934 Test 2 passed? : True\n"
     ]
    }
   ],
   "source": [
    "for (ind,(exp,n_days)) in enumerate(zip(expect,expect_n_days)):\n",
    "    test_result = int(np.shape(progress_population_of_lanternfish(test,days=n_days,countdown_mature=6,countdown_young=8))[0])\n",
    "    test_truthy = test_result==exp\n",
    "    print(test_result, f\"Test {ind} passed? : {test_truthy}\")\n",
    "    if test_truthy is False:\n",
    "        break"
   ]
  },
  {
   "cell_type": "markdown",
   "metadata": {},
   "source": [
    "### Run on data"
   ]
  },
  {
   "cell_type": "code",
   "execution_count": 7,
   "metadata": {},
   "outputs": [
    {
     "name": "stdout",
     "output_type": "stream",
     "text": [
      "[2 5 5 3 2 2 5 1 4 5 2 1 5 5 1 2 3 3 4 1 4 1 4 4 2 1 5 5 3 5 4 3 4 1 5 4 1\n",
      " 5 5 5 4 3 1 2 1 5 1 4 4 1 4 1 3 1 1 1 3 1 1 2 1 3 1 1 1 2 3 5 5 3 2 3 3 2\n",
      " 2 1 3 1 3 1 5 5 1 2 3 2 1 1 2 1 2 1 2 2 1 3 5 4 3 3 2 2 3 1 4 2 2 1 3 4 5\n",
      " 4 2 5 4 1 2 1 3 5 3 3 5 4 1 1 5 2 4 4 1 2 2 5 5 3 1 2 4 3 3 1 4 2 5 1 5 1\n",
      " 2 1 1 1 1 3 5 5 1 5 5 1 2 2 1 2 1 2 1 2 1 4 5 1 2 4 3 3 3 1 5 3 2 2 1 4 2\n",
      " 4 2 3 2 5 1 5 1 1 1 3 1 1 3 5 4 2 5 3 2 2 1 4 5 1 3 2 5 1 2 1 4 1 5 5 1 2\n",
      " 2 1 2 4 5 3 3 1 4 4 3 1 4 2 4 4 3 4 1 4 5 3 1 4 2 2 3 4 4 4 1 4 3 1 3 4 5\n",
      " 1 5 4 4 4 5 5 5 2 1 3 4 3 2 5 3 1 3 2 2 3 1 4 5 3 5 5 3 2 3 1 2 5 2 1 3 1\n",
      " 1 1 5 1]\n"
     ]
    }
   ],
   "source": [
    "file_path = \"day6_input.txt\"              \n",
    "\n",
    "data = np.genfromtxt(file_path,delimiter=\",\").astype(\"int32\")\n",
    "print(data)"
   ]
  },
  {
   "cell_type": "code",
   "execution_count": 8,
   "metadata": {
    "scrolled": true
   },
   "outputs": [
    {
     "name": "stdout",
     "output_type": "stream",
     "text": [
      "\n",
      "Day 6 Part 1 Result is: 352151\n"
     ]
    }
   ],
   "source": [
    "n_days = 80\n",
    "result = int(np.shape(progress_population_of_lanternfish(data,days=n_days,countdown_mature=6,countdown_young=8))[0])\n",
    "\n",
    "print()\n",
    "print(f\"Day 6 Part 1 Result is: {result}\")"
   ]
  },
  {
   "cell_type": "markdown",
   "metadata": {},
   "source": [
    "## Part 2"
   ]
  },
  {
   "cell_type": "code",
   "execution_count": 9,
   "metadata": {},
   "outputs": [],
   "source": [
    "def setup_lanternfish_record(data,countdown_mature=6,countdown_young=8):\n",
    "    \n",
    "    #Check assumptions on max age hold\n",
    "    maxage_data = np.nanmax(data)\n",
    "    if (maxage_data > countdown_mature):\n",
    "        raise ValueError(\"Max age of fish shouldn't exceed 'countdown_mature'!\")\n",
    "    else:\n",
    "        maxage = max(maxage_data,countdown_mature)\n",
    "        \n",
    "    out = {}    \n",
    "    for age in range(0,maxage+1):\n",
    "        n_fish = int(np.shape(np.where(data==age)[0])[0])\n",
    "        out.update({age:n_fish})\n",
    "        \n",
    "    #Check assumptions on youth age\n",
    "    if (countdown_young < countdown_mature):\n",
    "        raise ValueError(\"Max days until offspring of Young fish (countdown_young)\" +\\\n",
    "        \"shouldn't be less than max days until offspring of Mature fish (countdown_mature)\")\n",
    "\n",
    "    #Now add in counting for young fish:\n",
    "    for age in range(maxage+1,countdown_young+1):\n",
    "        out.update({age:n_fish})\n",
    "    return out"
   ]
  },
  {
   "cell_type": "code",
   "execution_count": 10,
   "metadata": {},
   "outputs": [
    {
     "name": "stdout",
     "output_type": "stream",
     "text": [
      "[3 4 3 1 2]\n",
      "{0: 0, 1: 1, 2: 1, 3: 2, 4: 1, 5: 0, 6: 0, 7: 0, 8: 0}\n"
     ]
    }
   ],
   "source": [
    "test_records_dict = setup_lanternfish_record(test,countdown_mature=6,countdown_young=8)\n",
    "print(test)\n",
    "print(test_records_dict)"
   ]
  },
  {
   "cell_type": "code",
   "execution_count": 11,
   "metadata": {},
   "outputs": [],
   "source": [
    "def progress_population_of_lanternfish_v2(records_dict,days,countdown_mature=6,countdown_young=8):\n",
    "    _records_dict = records_dict.copy()\n",
    "    if (max(list(_records_dict.keys()))!=countdown_young):\n",
    "        raise ValueError(\"countdown_young passed is does not match that passed to 'setup_lanternfish_record()'!\")\n",
    "   \n",
    "    _records_dict_old = _records_dict.copy()\n",
    "    for day in range(0,days):\n",
    "        \n",
    "        _records_dict_new = _records_dict_old.copy()\n",
    "\n",
    "        #Age population by one day\n",
    "        for age in range(0,countdown_young,1):\n",
    "            _records_dict_new.update({age:_records_dict_old[age+1]})\n",
    "            \n",
    "\n",
    "        #If any spawning fish yesterday, generate offspring and reset mature fish of today:\n",
    "        if _records_dict_old[0]>0:\n",
    "            _records_dict_new.update({countdown_young:_records_dict_old[0]})\n",
    "            _records_dict_new.update({countdown_mature:_records_dict_old[0]+_records_dict_old[countdown_mature+1]})\n",
    "        else:\n",
    "            #Need to reset 'countdown_young' bin to zero when no new fish\n",
    "            _records_dict_new.update({countdown_young:0})\n",
    "\n",
    "\n",
    "        _records_dict_old = _records_dict_new.copy()\n",
    "    return _records_dict_new"
   ]
  },
  {
   "cell_type": "code",
   "execution_count": 12,
   "metadata": {},
   "outputs": [],
   "source": [
    "def count_fish(records_dict):\n",
    "    count = 0\n",
    "    for age,n_fish in records_dict.items():\n",
    "        count += n_fish\n",
    "        \n",
    "    return count"
   ]
  },
  {
   "cell_type": "code",
   "execution_count": 13,
   "metadata": {},
   "outputs": [
    {
     "name": "stdout",
     "output_type": "stream",
     "text": [
      "{0: 0, 1: 1, 2: 1, 3: 2, 4: 1, 5: 0, 6: 0, 7: 0, 8: 0}\n",
      "{0: 3, 1: 5, 2: 3, 3: 2, 4: 2, 5: 1, 6: 5, 7: 1, 8: 4}\n",
      "26\n"
     ]
    }
   ],
   "source": [
    "print(test_records_dict)\n",
    "\n",
    "test_results_dict = progress_population_of_lanternfish_v2(test_records_dict,days=18,countdown_mature=6,countdown_young=8)\n",
    "test_results = count_fish(test_results_dict)\n",
    "\n",
    "print(test_results_dict)\n",
    "print(test_results)"
   ]
  },
  {
   "cell_type": "code",
   "execution_count": 14,
   "metadata": {},
   "outputs": [],
   "source": [
    "expect_n_days = [2,18,80,256]\n",
    "expect = [6,26,5934,26984457539]"
   ]
  },
  {
   "cell_type": "code",
   "execution_count": 15,
   "metadata": {},
   "outputs": [
    {
     "name": "stdout",
     "output_type": "stream",
     "text": [
      "6 Test 0 passed? : True\n",
      "26 Test 1 passed? : True\n",
      "5934 Test 2 passed? : True\n",
      "26984457539 Test 3 passed? : True\n"
     ]
    }
   ],
   "source": [
    "for (ind,(exp,n_days)) in enumerate(zip(expect,expect_n_days)):\n",
    "    test_results_dict = progress_population_of_lanternfish_v2(test_records_dict,days=n_days,countdown_mature=6,countdown_young=8)\n",
    "    test_result = count_fish(test_results_dict)\n",
    "    test_truthy = test_result==exp\n",
    "    print(test_result, f\"Test {ind} passed? : {test_truthy}\")\n",
    "    if test_truthy is False:\n",
    "        break"
   ]
  },
  {
   "cell_type": "code",
   "execution_count": 18,
   "metadata": {
    "scrolled": true
   },
   "outputs": [
    {
     "name": "stdout",
     "output_type": "stream",
     "text": [
      "\n",
      "Day 6 Part 2 Result is: 1601616884019\n"
     ]
    }
   ],
   "source": [
    "n_days = 256\n",
    "data_records_dict = setup_lanternfish_record(data,countdown_mature=6,countdown_young=8)\n",
    "\n",
    "results_dict = progress_population_of_lanternfish_v2(data_records_dict,days=n_days,countdown_mature=6,countdown_young=8)\n",
    "\n",
    "result = count_fish(results_dict)\n",
    "\n",
    "print()\n",
    "print(f\"Day 6 Part 2 Result is: {result}\")"
   ]
  },
  {
   "cell_type": "code",
   "execution_count": null,
   "metadata": {},
   "outputs": [],
   "source": []
  }
 ],
 "metadata": {
  "kernelspec": {
   "display_name": "Python 3",
   "language": "python",
   "name": "python3"
  },
  "language_info": {
   "codemirror_mode": {
    "name": "ipython",
    "version": 3
   },
   "file_extension": ".py",
   "mimetype": "text/x-python",
   "name": "python",
   "nbconvert_exporter": "python",
   "pygments_lexer": "ipython3",
   "version": "3.7.6"
  }
 },
 "nbformat": 4,
 "nbformat_minor": 4
}
