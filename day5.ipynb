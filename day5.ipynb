{
 "cells": [
  {
   "cell_type": "markdown",
   "metadata": {},
   "source": [
    "# Advent of Code 2021\n",
    "## Day 5\n",
    "\n",
    "A.T.Hannington"
   ]
  },
  {
   "cell_type": "markdown",
   "metadata": {},
   "source": [
    "# Part 1"
   ]
  },
  {
   "cell_type": "code",
   "execution_count": 1,
   "metadata": {},
   "outputs": [],
   "source": [
    "import numpy as np"
   ]
  },
  {
   "cell_type": "code",
   "execution_count": 23,
   "metadata": {},
   "outputs": [],
   "source": [
    "def read_hydrothermal_vent_data(file_path):\n",
    "    data = []\n",
    "    with open(file_path,\"r\") as f:\n",
    "        for line in f:\n",
    "            line_split = line.replace(\"->\",\",\").replace(\"\\n\",\",\").replace(\" \",\"\").split(\",\")\n",
    "\n",
    "            while \"\" in line_split:\n",
    "                line_split.remove(\"\")\n",
    "            if not line_split:\n",
    "                pass\n",
    "            else:\n",
    "                data.append(line_split)\n",
    "\n",
    "    data = np.array(data).astype(\"int32\").reshape(-1,2,2) \n",
    "    \n",
    "    return data"
   ]
  },
  {
   "cell_type": "code",
   "execution_count": 30,
   "metadata": {},
   "outputs": [
    {
     "name": "stdout",
     "output_type": "stream",
     "text": [
      "[[[0 9]\n",
      "  [5 9]]\n",
      "\n",
      " [[8 0]\n",
      "  [0 8]]\n",
      "\n",
      " [[9 4]\n",
      "  [3 4]]\n",
      "\n",
      " [[2 2]\n",
      "  [2 1]]\n",
      "\n",
      " [[7 0]\n",
      "  [7 4]]\n",
      "\n",
      " [[6 4]\n",
      "  [2 0]]\n",
      "\n",
      " [[0 9]\n",
      "  [2 9]]\n",
      "\n",
      " [[3 4]\n",
      "  [1 4]]\n",
      "\n",
      " [[0 0]\n",
      "  [8 8]]\n",
      "\n",
      " [[5 5]\n",
      "  [8 2]]]\n"
     ]
    }
   ],
   "source": [
    "file_path = \"day5_test_input.txt\"              \n",
    "\n",
    "test = read_hydrothermal_vent_data(file_path)\n",
    "print(test)\n"
   ]
  },
  {
   "cell_type": "code",
   "execution_count": 34,
   "metadata": {},
   "outputs": [],
   "source": [
    "def setup_seamap(data):\n",
    "    xmax = np.nanmax(data[:,:,0])\n",
    "    ymax = np.nanmax(data[:,:,1])\n",
    "    seamp = np.full(shape=(xmax+1,ymax+1),fill_value=0)\n",
    "    return seamp"
   ]
  },
  {
   "cell_type": "code",
   "execution_count": 37,
   "metadata": {},
   "outputs": [
    {
     "name": "stdout",
     "output_type": "stream",
     "text": [
      "(10, 10)\n"
     ]
    }
   ],
   "source": [
    "test_seamap = setup_seamap(test)\n",
    "print(np.shape(test_seamap))"
   ]
  },
  {
   "cell_type": "code",
   "execution_count": 143,
   "metadata": {},
   "outputs": [],
   "source": [
    "def populate_seamap(data,seamap,mode=\"horizontal_vertical\"):\n",
    "    _seamap = seamap.copy()\n",
    "    for line in data:\n",
    "        x1,y1,x2,y2 = line[0,0], line[0,1], line[1,0], line[1,1]\n",
    "        if mode == \"horizontal_vertical\":\n",
    "            if (x1 == x2)|(y1 == y2):\n",
    "                xmin = min(x1,x2)\n",
    "                xmax = max(x1,x2)+1\n",
    "                ymin = min(y1,y2) \n",
    "                ymax = max(y1,y2)+1\n",
    "                \n",
    "                _seamap.T[xmin:xmax,ymin:ymax] += 1\n",
    "        elif mode == \"full\":\n",
    "            xmin = min(x1,x2)\n",
    "            xmax = max(x1,x2)+1\n",
    "            ymin = min(y1,y2) \n",
    "            ymax = max(y1,y2)+1\n",
    "            \n",
    "            if (x1 == x2)|(y1 == y2):\n",
    "                # Do horizontal and vertical\n",
    "                _seamap.T[xmin:xmax,ymin:ymax] += 1\n",
    "            else:\n",
    "                # Do diagonals\n",
    "                #  Sign to accomodate for negative ranges\n",
    "                #   Sign in stop position to accomodate for stop val not being included\n",
    "                #    and relevant adjustment. e.g. np.aranage(3,2,-1) = np.array([3])\n",
    "                for (xx,yy) in zip(np.arange(x1,x2+np.sign(x2-x1),np.sign(x2-x1)),np.arange(y1,y2+np.sign(y2-y1),np.sign(y2-y1))):\n",
    "                    _seamap.T[xx,yy] += 1\n",
    "        else:\n",
    "            raise ValueError(\"Mode can only be 'horizontal_vertical' or 'full' \")\n",
    "\n",
    "    return _seamap"
   ]
  },
  {
   "cell_type": "code",
   "execution_count": 144,
   "metadata": {},
   "outputs": [
    {
     "data": {
      "text/plain": [
       "array([3, 2])"
      ]
     },
     "execution_count": 144,
     "metadata": {},
     "output_type": "execute_result"
    }
   ],
   "source": [
    "np.arange(3,2+np.sign(-1),-1)"
   ]
  },
  {
   "cell_type": "code",
   "execution_count": 145,
   "metadata": {},
   "outputs": [
    {
     "name": "stdout",
     "output_type": "stream",
     "text": [
      "[[0 0 0 0 0 0 0 1 0 0]\n",
      " [0 0 1 0 0 0 0 1 0 0]\n",
      " [0 0 1 0 0 0 0 1 0 0]\n",
      " [0 0 0 0 0 0 0 1 0 0]\n",
      " [0 1 1 2 1 1 1 2 1 1]\n",
      " [0 0 0 0 0 0 0 0 0 0]\n",
      " [0 0 0 0 0 0 0 0 0 0]\n",
      " [0 0 0 0 0 0 0 0 0 0]\n",
      " [0 0 0 0 0 0 0 0 0 0]\n",
      " [2 2 2 1 1 1 0 0 0 0]]\n"
     ]
    }
   ],
   "source": [
    "test_seamap_populated = populate_seamap(test,test_seamap,mode=\"horizontal_vertical\")\n",
    "print(test_seamap_populated)"
   ]
  },
  {
   "cell_type": "code",
   "execution_count": 146,
   "metadata": {},
   "outputs": [],
   "source": [
    "expect = 5"
   ]
  },
  {
   "cell_type": "code",
   "execution_count": 147,
   "metadata": {},
   "outputs": [
    {
     "name": "stdout",
     "output_type": "stream",
     "text": [
      "5 Test passed? : True\n"
     ]
    }
   ],
   "source": [
    "test_score = np.shape(np.where(test_seamap_populated>=2)[0])[0]\n",
    "print(test_score, f\"Test passed? : {test_score==expect}\")"
   ]
  },
  {
   "cell_type": "markdown",
   "metadata": {},
   "source": [
    "### Run on data"
   ]
  },
  {
   "cell_type": "code",
   "execution_count": 148,
   "metadata": {},
   "outputs": [
    {
     "name": "stdout",
     "output_type": "stream",
     "text": [
      "(500, 2, 2)\n"
     ]
    }
   ],
   "source": [
    "file_path = \"day5_input.txt\"              \n",
    "\n",
    "data = read_hydrothermal_vent_data(file_path)\n",
    "print(np.shape(data))\n"
   ]
  },
  {
   "cell_type": "code",
   "execution_count": 149,
   "metadata": {},
   "outputs": [
    {
     "name": "stdout",
     "output_type": "stream",
     "text": [
      "(991, 990)\n"
     ]
    }
   ],
   "source": [
    "data_seamap = setup_seamap(data)\n",
    "print(np.shape(data_seamap))"
   ]
  },
  {
   "cell_type": "code",
   "execution_count": 150,
   "metadata": {
    "scrolled": true
   },
   "outputs": [
    {
     "name": "stdout",
     "output_type": "stream",
     "text": [
      "[[0 0 0 ... 0 0 0]\n",
      " [0 0 0 ... 0 0 0]\n",
      " [0 0 0 ... 0 0 0]\n",
      " ...\n",
      " [0 0 0 ... 0 0 0]\n",
      " [0 0 0 ... 0 0 0]\n",
      " [0 0 0 ... 0 0 0]]\n"
     ]
    }
   ],
   "source": [
    "data_seamap_populated = populate_seamap(data,data_seamap,mode=\"horizontal_vertical\")\n",
    "print(data_seamap_populated)"
   ]
  },
  {
   "cell_type": "code",
   "execution_count": 151,
   "metadata": {
    "scrolled": true
   },
   "outputs": [
    {
     "name": "stdout",
     "output_type": "stream",
     "text": [
      "\n",
      "Day 5 Part 1 Result is: 8350\n"
     ]
    }
   ],
   "source": [
    "result = np.shape(np.where(data_seamap_populated>=2)[0])[0]\n",
    "print()\n",
    "print(f\"Day 5 Part 1 Result is: {result}\")"
   ]
  },
  {
   "cell_type": "markdown",
   "metadata": {},
   "source": [
    "## Part 2"
   ]
  },
  {
   "cell_type": "code",
   "execution_count": 152,
   "metadata": {},
   "outputs": [
    {
     "name": "stdout",
     "output_type": "stream",
     "text": [
      "[[1 0 1 0 0 0 0 1 1 0]\n",
      " [0 1 1 1 0 0 0 2 0 0]\n",
      " [0 0 2 0 1 0 1 1 1 0]\n",
      " [0 0 0 1 0 2 0 2 0 0]\n",
      " [0 1 1 2 3 1 3 2 1 1]\n",
      " [0 0 0 1 0 2 0 0 0 0]\n",
      " [0 0 1 0 0 0 1 0 0 0]\n",
      " [0 1 0 0 0 0 0 1 0 0]\n",
      " [1 0 0 0 0 0 0 0 1 0]\n",
      " [2 2 2 1 1 1 0 0 0 0]]\n"
     ]
    }
   ],
   "source": [
    "test_seamap_populated_part2 = populate_seamap(test,test_seamap,mode=\"full\")\n",
    "print(test_seamap_populated_part2)"
   ]
  },
  {
   "cell_type": "code",
   "execution_count": 153,
   "metadata": {},
   "outputs": [],
   "source": [
    "expect_part2 = 12"
   ]
  },
  {
   "cell_type": "code",
   "execution_count": 154,
   "metadata": {},
   "outputs": [
    {
     "name": "stdout",
     "output_type": "stream",
     "text": [
      "12 Part 2 Test passed? : True\n"
     ]
    }
   ],
   "source": [
    "test_score_part2 = np.shape(np.where(test_seamap_populated_part2>=2)[0])[0]\n",
    "print(test_score_part2, f\"Part 2 Test passed? : {test_score_part2==expect_part2}\")"
   ]
  },
  {
   "cell_type": "markdown",
   "metadata": {},
   "source": [
    "### Run on data"
   ]
  },
  {
   "cell_type": "code",
   "execution_count": 155,
   "metadata": {
    "scrolled": true
   },
   "outputs": [
    {
     "name": "stdout",
     "output_type": "stream",
     "text": [
      "[[0 0 0 ... 0 0 0]\n",
      " [0 0 0 ... 0 0 0]\n",
      " [0 0 0 ... 0 0 0]\n",
      " ...\n",
      " [0 0 0 ... 0 0 0]\n",
      " [0 0 0 ... 0 0 0]\n",
      " [0 0 0 ... 0 0 0]]\n"
     ]
    }
   ],
   "source": [
    "data_seamap_populated_part2 = populate_seamap(data,data_seamap,mode=\"full\")\n",
    "print(data_seamap_populated_part2)"
   ]
  },
  {
   "cell_type": "code",
   "execution_count": 156,
   "metadata": {
    "scrolled": true
   },
   "outputs": [
    {
     "name": "stdout",
     "output_type": "stream",
     "text": [
      "\n",
      "Day 5 Part 2 Result is: 19374\n"
     ]
    }
   ],
   "source": [
    "result_part2 = np.shape(np.where(data_seamap_populated_part2>=2)[0])[0]\n",
    "print()\n",
    "print(f\"Day 5 Part 2 Result is: {result_part2}\")"
   ]
  },
  {
   "cell_type": "code",
   "execution_count": null,
   "metadata": {},
   "outputs": [],
   "source": []
  },
  {
   "cell_type": "code",
   "execution_count": null,
   "metadata": {},
   "outputs": [],
   "source": []
  },
  {
   "cell_type": "code",
   "execution_count": null,
   "metadata": {},
   "outputs": [],
   "source": []
  },
  {
   "cell_type": "code",
   "execution_count": null,
   "metadata": {},
   "outputs": [],
   "source": []
  },
  {
   "cell_type": "code",
   "execution_count": null,
   "metadata": {},
   "outputs": [],
   "source": []
  }
 ],
 "metadata": {
  "kernelspec": {
   "display_name": "Python 3",
   "language": "python",
   "name": "python3"
  },
  "language_info": {
   "codemirror_mode": {
    "name": "ipython",
    "version": 3
   },
   "file_extension": ".py",
   "mimetype": "text/x-python",
   "name": "python",
   "nbconvert_exporter": "python",
   "pygments_lexer": "ipython3",
   "version": "3.7.6"
  }
 },
 "nbformat": 4,
 "nbformat_minor": 4
}
