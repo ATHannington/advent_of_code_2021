{
 "cells": [
  {
   "cell_type": "markdown",
   "metadata": {},
   "source": [
    "# Advent of Code 2021\n",
    "## Day 3\n",
    "\n",
    "A.T.Hannington"
   ]
  },
  {
   "cell_type": "markdown",
   "metadata": {},
   "source": [
    "# Part 1"
   ]
  },
  {
   "cell_type": "code",
   "execution_count": 1,
   "metadata": {},
   "outputs": [],
   "source": [
    "import numpy as np"
   ]
  },
  {
   "cell_type": "code",
   "execution_count": 2,
   "metadata": {},
   "outputs": [
    {
     "name": "stdout",
     "output_type": "stream",
     "text": [
      "(1000,)\n"
     ]
    }
   ],
   "source": [
    "data = np.genfromtxt('day3_input.txt',dtype=str)\n",
    "print(np.shape(data))"
   ]
  },
  {
   "cell_type": "code",
   "execution_count": 3,
   "metadata": {},
   "outputs": [],
   "source": [
    "def split_binary(data):\n",
    "    out = np.array([x[ii] for x in data for ii in range(0,len(x))]).reshape(len(data),-1).astype(\"int32\")\n",
    "    return out"
   ]
  },
  {
   "cell_type": "code",
   "execution_count": 4,
   "metadata": {},
   "outputs": [],
   "source": [
    "def get_common_column_count(row):\n",
    "    row_equals_one = np.where(row==1)[0]\n",
    "    row_equals_zero = np.where(row==0)[0]\n",
    "    \n",
    "    count_one = np.shape(row[row_equals_one])[0]\n",
    "    count_zero = np.shape(row[row_equals_zero])[0]\n",
    "\n",
    "    return count_one, count_zero"
   ]
  },
  {
   "cell_type": "code",
   "execution_count": 5,
   "metadata": {},
   "outputs": [],
   "source": [
    "def get_gamma_epsilon_as_binary(data):\n",
    "    \n",
    "    gamma = np.array([])\n",
    "    epsilon = np.array([])\n",
    "    for col in data.T:\n",
    "        \n",
    "        count_one, count_zero = get_common_column_count(col)\n",
    "        \n",
    "        if count_one>count_zero:\n",
    "            gamma = np.concatenate((gamma,np.array([1])),axis=0)\n",
    "            epsilon = np.concatenate((epsilon,np.array([0])),axis=0)\n",
    "        else:\n",
    "            gamma = np.concatenate((gamma,np.array([0])),axis=0)\n",
    "            epsilon = np.concatenate((epsilon,np.array([1])),axis=0)\n",
    "            \n",
    "    gamma = gamma.astype(int).astype(str)\n",
    "    gamma = \"\".join(gamma.tolist())\n",
    "    \n",
    "    epsilon = epsilon.astype(int).astype(str)\n",
    "    epsilon = \"\".join(epsilon.tolist())\n",
    "    return gamma, epsilon"
   ]
  },
  {
   "cell_type": "code",
   "execution_count": 6,
   "metadata": {},
   "outputs": [],
   "source": [
    "def binary_to_numeric(string):\n",
    "    string = \"0b\" + string\n",
    "    return int(string, base=2)"
   ]
  },
  {
   "cell_type": "code",
   "execution_count": 7,
   "metadata": {},
   "outputs": [],
   "source": [
    "test = np.array([\n",
    "\"00100\",\n",
    "\"11110\",\n",
    "\"10110\",\n",
    "\"10111\",\n",
    "\"10101\",\n",
    "\"01111\",\n",
    "\"00111\",\n",
    "\"11100\",\n",
    "\"10000\",\n",
    "\"11001\",\n",
    "\"00010\",\n",
    "\"01010\",])"
   ]
  },
  {
   "cell_type": "code",
   "execution_count": 8,
   "metadata": {},
   "outputs": [],
   "source": [
    "expect_binary_gamma = \"10110\"\n",
    "expect_numeric_gamma = 22\n",
    "\n",
    "expect_binary_epsilon = \"01001\"\n",
    "expect_numeric_epsilon  = 9\n",
    "\n",
    "expect_power = expect_numeric_gamma*expect_numeric_epsilon"
   ]
  },
  {
   "cell_type": "code",
   "execution_count": 9,
   "metadata": {},
   "outputs": [
    {
     "name": "stdout",
     "output_type": "stream",
     "text": [
      "10110 Gamma Binary Test passed? : True\n",
      "01001 Epsilon Binary Test passed? : True\n"
     ]
    }
   ],
   "source": [
    "test_split = split_binary(test)\n",
    "test_binary_gamma, test_binary_epsilon = get_gamma_epsilon_as_binary(test_split)\n",
    "\n",
    "print(test_binary_gamma, f\"Gamma Binary Test passed? : {test_binary_gamma==expect_binary_gamma}\")\n",
    "print(test_binary_epsilon, f\"Epsilon Binary Test passed? : {test_binary_epsilon==expect_binary_epsilon}\")"
   ]
  },
  {
   "cell_type": "code",
   "execution_count": 10,
   "metadata": {},
   "outputs": [
    {
     "name": "stdout",
     "output_type": "stream",
     "text": [
      "22 Gamma Numeric Test passed? : True\n",
      "9 Epsilon Numeric Test passed? : True\n"
     ]
    }
   ],
   "source": [
    "test_numeric_gamma = binary_to_numeric(test_binary_gamma)\n",
    "test_numeric_epsilon = binary_to_numeric(test_binary_epsilon)\n",
    "\n",
    "print(test_numeric_gamma, f\"Gamma Numeric Test passed? : {test_numeric_gamma==expect_numeric_gamma}\")\n",
    "print(test_numeric_epsilon, f\"Epsilon Numeric Test passed? : {test_numeric_epsilon==expect_numeric_epsilon}\")"
   ]
  },
  {
   "cell_type": "code",
   "execution_count": 11,
   "metadata": {},
   "outputs": [
    {
     "name": "stdout",
     "output_type": "stream",
     "text": [
      "198 Power Test passed? : True\n"
     ]
    }
   ],
   "source": [
    "test_power = test_numeric_gamma*test_numeric_epsilon\n",
    "\n",
    "print(test_power, f\"Power Test passed? : {test_power==expect_power}\")"
   ]
  },
  {
   "cell_type": "markdown",
   "metadata": {},
   "source": [
    "### Run on data"
   ]
  },
  {
   "cell_type": "code",
   "execution_count": 12,
   "metadata": {},
   "outputs": [
    {
     "name": "stdout",
     "output_type": "stream",
     "text": [
      "Day 3 Part 1 Result is: 3277364\n"
     ]
    }
   ],
   "source": [
    "result_split = split_binary(data)\n",
    "result_binary_gamma, result_binary_epsilon = get_gamma_epsilon_as_binary(result_split)\n",
    "result_numeric_gamma, result_numeric_epsilon = binary_to_numeric(result_binary_gamma), binary_to_numeric(result_binary_epsilon)\n",
    "result = result_numeric_gamma*result_numeric_epsilon\n",
    "print(f\"Day 3 Part 1 Result is: {result}\")"
   ]
  },
  {
   "cell_type": "markdown",
   "metadata": {},
   "source": [
    "## Part 2"
   ]
  },
  {
   "cell_type": "code",
   "execution_count": 13,
   "metadata": {},
   "outputs": [],
   "source": [
    "def get_ox_co2_row_wise(data,row,flag):\n",
    "    count_one, count_zero = get_common_column_count(row)\n",
    "    \n",
    "    row_equals_one = data[np.where(row==1)[0]]\n",
    "    row_equals_zero = data[np.where(row==0)[0]]\n",
    "\n",
    "    if flag == \"ox\":\n",
    "        if count_one>count_zero:\n",
    "            out = row_equals_one\n",
    "        elif count_one<count_zero:\n",
    "            out = row_equals_zero  \n",
    "        else:\n",
    "            out = row_equals_one    \n",
    "    elif flag == \"co2\":\n",
    "        if count_one>count_zero:\n",
    "            out = row_equals_zero\n",
    "        elif count_one<count_zero:\n",
    "            out = row_equals_one\n",
    "        else:\n",
    "            out = row_equals_zero  \n",
    "    else:\n",
    "        raise ValueError(\"Flag must equal 'ox' or 'co2'\")\n",
    "    return out\n",
    "\n"
   ]
  },
  {
   "cell_type": "code",
   "execution_count": 14,
   "metadata": {},
   "outputs": [],
   "source": [
    "def get_ox_co2_binary(data):\n",
    "    nox = np.shape(data)[0]\n",
    "    ox = data.copy()\n",
    "\n",
    "    ind = 0 \n",
    "    while (nox>1):\n",
    "        ox = get_ox_co2_row_wise(ox,ox.T[ind],\"ox\")\n",
    "        nox = np.shape(ox)[0]\n",
    "        ind+=1\n",
    "\n",
    "    nco2 = np.shape(data)[0]    \n",
    "    co2 = data.copy()\n",
    "\n",
    "    ind = 0 \n",
    "    while (nco2>1):\n",
    "        co2 = get_ox_co2_row_wise(co2,co2.T[ind],\"co2\")\n",
    "        nco2 = np.shape(co2)[0]\n",
    "        ind+=1\n",
    "        \n",
    "    ox = ox.flatten().astype(int).astype(str)\n",
    "    ox = \"\".join(ox.tolist())\n",
    "    \n",
    "    co2 = co2.flatten().astype(int).astype(str)\n",
    "    co2 = \"\".join(co2.tolist())\n",
    "\n",
    "    return ox, co2"
   ]
  },
  {
   "cell_type": "code",
   "execution_count": 15,
   "metadata": {},
   "outputs": [],
   "source": [
    "expect_binary_ox = \"10111\"\n",
    "expect_numeric_ox = 23\n",
    "\n",
    "expect_binary_co2 = \"01010\"\n",
    "expect_numeric_co2  = 10\n",
    "\n",
    "expect_life_support = expect_numeric_ox*expect_numeric_co2"
   ]
  },
  {
   "cell_type": "code",
   "execution_count": 16,
   "metadata": {},
   "outputs": [
    {
     "name": "stdout",
     "output_type": "stream",
     "text": [
      "10111 ox Binary Test passed? : True\n",
      "01010 co2 Binary Test passed? : True\n"
     ]
    }
   ],
   "source": [
    "test_binary_ox, test_binary_co2 = get_ox_co2_binary(test_split)\n",
    "\n",
    "print(test_binary_ox, f\"ox Binary Test passed? : {test_binary_ox==expect_binary_ox}\")\n",
    "print(test_binary_co2, f\"co2 Binary Test passed? : {test_binary_co2==expect_binary_co2}\")"
   ]
  },
  {
   "cell_type": "code",
   "execution_count": 17,
   "metadata": {},
   "outputs": [
    {
     "name": "stdout",
     "output_type": "stream",
     "text": [
      "23 Gamma Numeric Test passed? : True\n",
      "10 Epsilon Numeric Test passed? : True\n"
     ]
    }
   ],
   "source": [
    "test_numeric_ox = binary_to_numeric(test_binary_ox)\n",
    "test_numeric_co2 = binary_to_numeric(test_binary_co2)\n",
    "\n",
    "print(test_numeric_ox, f\"Gamma Numeric Test passed? : {test_numeric_ox==expect_numeric_ox}\")\n",
    "print(test_numeric_co2, f\"Epsilon Numeric Test passed? : {test_numeric_co2==expect_numeric_co2}\")"
   ]
  },
  {
   "cell_type": "code",
   "execution_count": 18,
   "metadata": {},
   "outputs": [
    {
     "name": "stdout",
     "output_type": "stream",
     "text": [
      "230 Life Support Test passed? : True\n"
     ]
    }
   ],
   "source": [
    "test_life_support = test_numeric_ox*test_numeric_co2\n",
    "\n",
    "print(test_life_support, f\"Life Support Test passed? : {test_life_support==expect_life_support}\")"
   ]
  },
  {
   "cell_type": "markdown",
   "metadata": {},
   "source": [
    "### Run on data"
   ]
  },
  {
   "cell_type": "code",
   "execution_count": 19,
   "metadata": {},
   "outputs": [
    {
     "name": "stdout",
     "output_type": "stream",
     "text": [
      "Day 3 Part 1 Result is: 5736383\n"
     ]
    }
   ],
   "source": [
    "result_binary_ox, result_binary_co2 = get_ox_co2_binary(result_split)\n",
    "result_numeric_ox, result_numeric_co2 = binary_to_numeric(result_binary_ox), binary_to_numeric(result_binary_co2)\n",
    "result = result_numeric_ox *result_numeric_co2 \n",
    "print(f\"Day 3 Part 2 Result is: {result}\")"
   ]
  }
 ],
 "metadata": {
  "kernelspec": {
   "display_name": "Python 3",
   "language": "python",
   "name": "python3"
  },
  "language_info": {
   "codemirror_mode": {
    "name": "ipython",
    "version": 3
   },
   "file_extension": ".py",
   "mimetype": "text/x-python",
   "name": "python",
   "nbconvert_exporter": "python",
   "pygments_lexer": "ipython3",
   "version": "3.7.6"
  }
 },
 "nbformat": 4,
 "nbformat_minor": 4
}
