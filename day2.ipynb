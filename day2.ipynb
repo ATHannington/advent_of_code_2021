{
 "cells": [
  {
   "cell_type": "markdown",
   "metadata": {},
   "source": [
    "# Advent of Code 2021\n",
    "## Day 2\n",
    "\n",
    "A.T.Hannington"
   ]
  },
  {
   "cell_type": "markdown",
   "metadata": {},
   "source": [
    "# Part 1"
   ]
  },
  {
   "cell_type": "code",
   "execution_count": 1,
   "metadata": {},
   "outputs": [],
   "source": [
    "import numpy as np\n",
    "import pandas as pd"
   ]
  },
  {
   "cell_type": "code",
   "execution_count": 2,
   "metadata": {},
   "outputs": [],
   "source": [
    "data = pd.read_table('day2_input.txt',sep=\" \",names=[\"direction\",\"values\"])"
   ]
  },
  {
   "cell_type": "code",
   "execution_count": 3,
   "metadata": {},
   "outputs": [
    {
     "data": {
      "text/html": [
       "<div>\n",
       "<style scoped>\n",
       "    .dataframe tbody tr th:only-of-type {\n",
       "        vertical-align: middle;\n",
       "    }\n",
       "\n",
       "    .dataframe tbody tr th {\n",
       "        vertical-align: top;\n",
       "    }\n",
       "\n",
       "    .dataframe thead th {\n",
       "        text-align: right;\n",
       "    }\n",
       "</style>\n",
       "<table border=\"1\" class=\"dataframe\">\n",
       "  <thead>\n",
       "    <tr style=\"text-align: right;\">\n",
       "      <th></th>\n",
       "      <th>direction</th>\n",
       "      <th>values</th>\n",
       "    </tr>\n",
       "  </thead>\n",
       "  <tbody>\n",
       "    <tr>\n",
       "      <th>0</th>\n",
       "      <td>forward</td>\n",
       "      <td>7</td>\n",
       "    </tr>\n",
       "    <tr>\n",
       "      <th>1</th>\n",
       "      <td>down</td>\n",
       "      <td>1</td>\n",
       "    </tr>\n",
       "    <tr>\n",
       "      <th>2</th>\n",
       "      <td>forward</td>\n",
       "      <td>9</td>\n",
       "    </tr>\n",
       "    <tr>\n",
       "      <th>3</th>\n",
       "      <td>forward</td>\n",
       "      <td>4</td>\n",
       "    </tr>\n",
       "    <tr>\n",
       "      <th>4</th>\n",
       "      <td>forward</td>\n",
       "      <td>7</td>\n",
       "    </tr>\n",
       "    <tr>\n",
       "      <th>...</th>\n",
       "      <td>...</td>\n",
       "      <td>...</td>\n",
       "    </tr>\n",
       "    <tr>\n",
       "      <th>995</th>\n",
       "      <td>down</td>\n",
       "      <td>9</td>\n",
       "    </tr>\n",
       "    <tr>\n",
       "      <th>996</th>\n",
       "      <td>forward</td>\n",
       "      <td>7</td>\n",
       "    </tr>\n",
       "    <tr>\n",
       "      <th>997</th>\n",
       "      <td>down</td>\n",
       "      <td>5</td>\n",
       "    </tr>\n",
       "    <tr>\n",
       "      <th>998</th>\n",
       "      <td>down</td>\n",
       "      <td>6</td>\n",
       "    </tr>\n",
       "    <tr>\n",
       "      <th>999</th>\n",
       "      <td>forward</td>\n",
       "      <td>9</td>\n",
       "    </tr>\n",
       "  </tbody>\n",
       "</table>\n",
       "<p>1000 rows × 2 columns</p>\n",
       "</div>"
      ],
      "text/plain": [
       "    direction  values\n",
       "0     forward       7\n",
       "1        down       1\n",
       "2     forward       9\n",
       "3     forward       4\n",
       "4     forward       7\n",
       "..        ...     ...\n",
       "995      down       9\n",
       "996   forward       7\n",
       "997      down       5\n",
       "998      down       6\n",
       "999   forward       9\n",
       "\n",
       "[1000 rows x 2 columns]"
      ]
     },
     "execution_count": 3,
     "metadata": {},
     "output_type": "execute_result"
    }
   ],
   "source": [
    "data"
   ]
  },
  {
   "cell_type": "code",
   "execution_count": 4,
   "metadata": {},
   "outputs": [
    {
     "data": {
      "text/html": [
       "<div>\n",
       "<style scoped>\n",
       "    .dataframe tbody tr th:only-of-type {\n",
       "        vertical-align: middle;\n",
       "    }\n",
       "\n",
       "    .dataframe tbody tr th {\n",
       "        vertical-align: top;\n",
       "    }\n",
       "\n",
       "    .dataframe thead th {\n",
       "        text-align: right;\n",
       "    }\n",
       "</style>\n",
       "<table border=\"1\" class=\"dataframe\">\n",
       "  <thead>\n",
       "    <tr style=\"text-align: right;\">\n",
       "      <th></th>\n",
       "      <th>direction</th>\n",
       "      <th>values</th>\n",
       "    </tr>\n",
       "  </thead>\n",
       "  <tbody>\n",
       "    <tr>\n",
       "      <th>0</th>\n",
       "      <td>forward</td>\n",
       "      <td>5</td>\n",
       "    </tr>\n",
       "    <tr>\n",
       "      <th>1</th>\n",
       "      <td>down</td>\n",
       "      <td>5</td>\n",
       "    </tr>\n",
       "    <tr>\n",
       "      <th>2</th>\n",
       "      <td>forward</td>\n",
       "      <td>8</td>\n",
       "    </tr>\n",
       "    <tr>\n",
       "      <th>3</th>\n",
       "      <td>up</td>\n",
       "      <td>3</td>\n",
       "    </tr>\n",
       "    <tr>\n",
       "      <th>4</th>\n",
       "      <td>down</td>\n",
       "      <td>8</td>\n",
       "    </tr>\n",
       "    <tr>\n",
       "      <th>5</th>\n",
       "      <td>forward</td>\n",
       "      <td>2</td>\n",
       "    </tr>\n",
       "  </tbody>\n",
       "</table>\n",
       "</div>"
      ],
      "text/plain": [
       "  direction  values\n",
       "0   forward       5\n",
       "1      down       5\n",
       "2   forward       8\n",
       "3        up       3\n",
       "4      down       8\n",
       "5   forward       2"
      ]
     },
     "execution_count": 4,
     "metadata": {},
     "output_type": "execute_result"
    }
   ],
   "source": [
    "test = pd.DataFrame({\"direction\": np.array([\"forward\", \"down\", \"forward\", \"up\", \"down\", \"forward\"]),\\\n",
    "                     \"values\": np.array([5,5,8,3,8,2])\\\n",
    "                    })\n",
    "test"
   ]
  },
  {
   "cell_type": "code",
   "execution_count": 5,
   "metadata": {},
   "outputs": [],
   "source": [
    "def move_submarine(direc, vals):\n",
    "    vals = float(vals)\n",
    "    direc_sign = {\"forward\": +1., \"down\":+1., \"up\": -1.}\n",
    "    \n",
    "    horizontal = 0.\n",
    "    depth = 0.\n",
    "    \n",
    "    if direc == \"forward\":\n",
    "        horizontal = direc_sign[direc] * vals\n",
    "    else:\n",
    "        depth = direc_sign[direc] * vals\n",
    "    return pd.Series({\"depth\":depth, \"horizontal\":horizontal})"
   ]
  },
  {
   "cell_type": "code",
   "execution_count": 6,
   "metadata": {},
   "outputs": [],
   "source": [
    "expect = 150"
   ]
  },
  {
   "cell_type": "code",
   "execution_count": 7,
   "metadata": {},
   "outputs": [
    {
     "name": "stdout",
     "output_type": "stream",
     "text": [
      "150.0 Test passed? : True\n"
     ]
    }
   ],
   "source": [
    "test_result = test.copy()\n",
    "test_result[[\"depth\",\"horizontal\"]] = test_result[[\"direction\",\"values\"]].apply(lambda x: move_submarine(x[0],x[1]),axis=1)\n",
    "test_result_sum = test_result[[\"depth\",\"horizontal\"]].sum()\n",
    "test_result_multiplied = test_result_sum[\"depth\"]*test_result_sum[\"horizontal\"]\n",
    "\n",
    "print(test_result_multiplied, f\"Test passed? : {test_result_multiplied==expect}\")"
   ]
  },
  {
   "cell_type": "code",
   "execution_count": 8,
   "metadata": {},
   "outputs": [
    {
     "name": "stdout",
     "output_type": "stream",
     "text": [
      "The number of increases (Day 2 Part 1 Result) is: 2039256.0\n"
     ]
    }
   ],
   "source": [
    "result = data.copy()\n",
    "result[[\"depth\",\"horizontal\"]] = result[[\"direction\",\"values\"]].apply(lambda x: move_submarine(x[0],x[1]),axis=1)\n",
    "result_sum = result[[\"depth\",\"horizontal\"]].sum()\n",
    "result_multiplied = result_sum[\"depth\"]*result_sum[\"horizontal\"]\n",
    "\n",
    "print(f\"The number of increases (Day 2 Part 1 Result) is: {result_multiplied}\")"
   ]
  },
  {
   "cell_type": "markdown",
   "metadata": {},
   "source": [
    "# Part 2"
   ]
  },
  {
   "cell_type": "code",
   "execution_count": 9,
   "metadata": {},
   "outputs": [],
   "source": [
    "expect_part2 = 900."
   ]
  },
  {
   "cell_type": "code",
   "execution_count": 10,
   "metadata": {},
   "outputs": [],
   "source": [
    "def move_submarine_alter_depth(horizontal,run_tot_depth):\n",
    "    depth = run_tot_depth * horizontal\n",
    "    return pd.Series({\"depth\":depth})"
   ]
  },
  {
   "cell_type": "code",
   "execution_count": 11,
   "metadata": {},
   "outputs": [
    {
     "name": "stdout",
     "output_type": "stream",
     "text": [
      "900.0 Test passed? : True\n"
     ]
    }
   ],
   "source": [
    "test_result[\"run_tot_depth\"] = test_result[\"depth\"].cumsum()\n",
    "test_result[[\"depth_part2\"]] = test_result[[\"horizontal\",\"run_tot_depth\"]].apply(lambda x: move_submarine_alter_depth(x[0],x[1]),axis=1)\n",
    "test_result_sum = test_result[[\"depth_part2\",\"horizontal\"]].sum()\n",
    "test_result_multiplied = test_result_sum[\"depth_part2\"]*test_result_sum[\"horizontal\"]\n",
    "\n",
    "print(test_result_multiplied, f\"Test passed? : {test_result_multiplied==expect_part2}\")"
   ]
  },
  {
   "cell_type": "code",
   "execution_count": 12,
   "metadata": {},
   "outputs": [
    {
     "name": "stdout",
     "output_type": "stream",
     "text": [
      "The number of increases (Day 2 Part 2 Result) is: 1856459736.0\n"
     ]
    }
   ],
   "source": [
    "result[\"run_tot_depth\"] = result[\"depth\"].cumsum()\n",
    "result[[\"depth_part2\"]] = result[[\"horizontal\",\"run_tot_depth\"]].apply(lambda x: move_submarine_alter_depth(x[0],x[1]),axis=1)\n",
    "result_sum = result[[\"depth_part2\",\"horizontal\"]].sum()\n",
    "result_multiplied = result_sum[\"depth_part2\"]*result_sum[\"horizontal\"]\n",
    "\n",
    "print(f\"The number of increases (Day 2 Part 2 Result) is: {result_multiplied}\")"
   ]
  },
  {
   "cell_type": "code",
   "execution_count": null,
   "metadata": {},
   "outputs": [],
   "source": []
  }
 ],
 "metadata": {
  "kernelspec": {
   "display_name": "Python 3",
   "language": "python",
   "name": "python3"
  },
  "language_info": {
   "codemirror_mode": {
    "name": "ipython",
    "version": 3
   },
   "file_extension": ".py",
   "mimetype": "text/x-python",
   "name": "python",
   "nbconvert_exporter": "python",
   "pygments_lexer": "ipython3",
   "version": "3.7.6"
  }
 },
 "nbformat": 4,
 "nbformat_minor": 4
}
