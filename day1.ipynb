{
 "cells": [
  {
   "cell_type": "markdown",
   "metadata": {},
   "source": [
    "# Advent of Code 2021\n",
    "## Day 1\n",
    "\n",
    "A.T.Hannington"
   ]
  },
  {
   "cell_type": "markdown",
   "metadata": {},
   "source": [
    "# Part 1"
   ]
  },
  {
   "cell_type": "code",
   "execution_count": 1,
   "metadata": {},
   "outputs": [],
   "source": [
    "import numpy as np"
   ]
  },
  {
   "cell_type": "code",
   "execution_count": 2,
   "metadata": {},
   "outputs": [],
   "source": [
    "data = np.genfromtxt('day1_input.txt')"
   ]
  },
  {
   "cell_type": "code",
   "execution_count": 3,
   "metadata": {},
   "outputs": [],
   "source": [
    "def get_diff(a):\n",
    "    diff = np.array([x-y for (x,y) in zip(a[1:],a[:-1])])\n",
    "    return diff"
   ]
  },
  {
   "cell_type": "code",
   "execution_count": 4,
   "metadata": {},
   "outputs": [],
   "source": [
    "test = np.array([\n",
    "199,\n",
    "200,\n",
    "208,\n",
    "210,\n",
    "200,\n",
    "207,\n",
    "240,\n",
    "269,\n",
    "260,\n",
    "263])"
   ]
  },
  {
   "cell_type": "code",
   "execution_count": 5,
   "metadata": {},
   "outputs": [],
   "source": [
    "expect = 7"
   ]
  },
  {
   "cell_type": "code",
   "execution_count": 13,
   "metadata": {},
   "outputs": [
    {
     "name": "stdout",
     "output_type": "stream",
     "text": [
      "7 Test passed? : True\n"
     ]
    }
   ],
   "source": [
    "test_result = np.shape(np.where(get_diff(test)>0)[0])[0]\n",
    "print(test_result, f\"Test passed? : {test_result==expect}\")"
   ]
  },
  {
   "cell_type": "markdown",
   "metadata": {},
   "source": [
    "### Run on data"
   ]
  },
  {
   "cell_type": "code",
   "execution_count": 86,
   "metadata": {},
   "outputs": [
    {
     "name": "stdout",
     "output_type": "stream",
     "text": [
      "The number of increases (Day 1 Part 1 Result) is: 1502\n"
     ]
    }
   ],
   "source": [
    "diff_arr = get_diff(data)\n",
    "where_increase = np.where(diff_arr>0)[0]\n",
    "print(f\"The number of increases (Day 1 Part 1 Result) is: {np.shape(where_increase)[0]}\")"
   ]
  },
  {
   "cell_type": "markdown",
   "metadata": {},
   "source": [
    "## Part 2"
   ]
  },
  {
   "cell_type": "code",
   "execution_count": 87,
   "metadata": {},
   "outputs": [],
   "source": [
    "def get_sum_delta_window(data,delta_window=2):\n",
    "    out = np.array([sum(data[ii:jj]) for (ii,jj) in \\\n",
    "                    zip(list(range(0,len(data)+1,1)),\\\n",
    "                        list(range(delta_window,len(data)+1,1)))])\n",
    "    return out"
   ]
  },
  {
   "cell_type": "code",
   "execution_count": 88,
   "metadata": {},
   "outputs": [],
   "source": [
    "delta_window_part2 = 3\n",
    "expect_part2 = 5"
   ]
  },
  {
   "cell_type": "code",
   "execution_count": 89,
   "metadata": {},
   "outputs": [
    {
     "name": "stdout",
     "output_type": "stream",
     "text": [
      "5 Test passed? : True\n"
     ]
    }
   ],
   "source": [
    "test_result = np.shape(np.where(get_diff(get_sum_delta_window(test,delta_window=delta_window_part2))>0)[0])[0]\n",
    "print(test_result, f\"Test passed? : {test_result==expect_part2}\")"
   ]
  },
  {
   "cell_type": "markdown",
   "metadata": {},
   "source": [
    "### Run on data"
   ]
  },
  {
   "cell_type": "code",
   "execution_count": 90,
   "metadata": {},
   "outputs": [
    {
     "name": "stdout",
     "output_type": "stream",
     "text": [
      "The number of increases (Day 1 Part 2 Result) is: 1538\n"
     ]
    }
   ],
   "source": [
    "diff_arr = get_diff(get_sum_delta_window(data,delta_window=delta_window_part2))\n",
    "where_increase = np.where(diff_arr>0)[0]\n",
    "print(f\"The number of increases (Day 1 Part 2 Result) is: {np.shape(where_increase)[0]}\")"
   ]
  },
  {
   "cell_type": "code",
   "execution_count": null,
   "metadata": {},
   "outputs": [],
   "source": []
  }
 ],
 "metadata": {
  "kernelspec": {
   "display_name": "Python 3",
   "language": "python",
   "name": "python3"
  },
  "language_info": {
   "codemirror_mode": {
    "name": "ipython",
    "version": 3
   },
   "file_extension": ".py",
   "mimetype": "text/x-python",
   "name": "python",
   "nbconvert_exporter": "python",
   "pygments_lexer": "ipython3",
   "version": "3.7.6"
  }
 },
 "nbformat": 4,
 "nbformat_minor": 4
}
